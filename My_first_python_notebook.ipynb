{
  "nbformat": 4,
  "nbformat_minor": 0,
  "metadata": {
    "colab": {
      "provenance": [],
      "authorship_tag": "ABX9TyPzM/OrqYFCRFEG6/WnuODF",
      "include_colab_link": true
    },
    "kernelspec": {
      "name": "python3",
      "display_name": "Python 3"
    },
    "language_info": {
      "name": "python"
    }
  },
  "cells": [
    {
      "cell_type": "markdown",
      "metadata": {
        "id": "view-in-github",
        "colab_type": "text"
      },
      "source": [
        "<a href=\"https://colab.research.google.com/github/aonvara/python_dataviz2024/blob/main/My_first_python_notebook.ipynb\" target=\"_parent\"><img src=\"https://colab.research.google.com/assets/colab-badge.svg\" alt=\"Open In Colab\"/></a>"
      ]
    },
    {
      "cell_type": "markdown",
      "source": [
        "Basic Programming for Data Science & Data Vizualization"
      ],
      "metadata": {
        "id": "Q0_lntaTR7Ii"
      }
    },
    {
      "cell_type": "markdown",
      "source": [
        "here we use **Markdown**"
      ],
      "metadata": {
        "id": "TkycVLknSye_"
      }
    },
    {
      "cell_type": "code",
      "source": [
        "print('aonvara kanjanavattana')"
      ],
      "metadata": {
        "colab": {
          "base_uri": "https://localhost:8080/"
        },
        "id": "44uv4XlKSUzw",
        "outputId": "9c29bc36-bd5e-4545-f1df-48e23784c332"
      },
      "execution_count": 1,
      "outputs": [
        {
          "output_type": "stream",
          "name": "stdout",
          "text": [
            "aonvara kanjanavattana\n"
          ]
        }
      ]
    },
    {
      "cell_type": "code",
      "source": [
        "print('kanjanavattana')"
      ],
      "metadata": {
        "colab": {
          "base_uri": "https://localhost:8080/"
        },
        "id": "bZCiNrhAS7vI",
        "outputId": "d8808fb3-4f3f-44de-ca10-855fc866067f"
      },
      "execution_count": 2,
      "outputs": [
        {
          "output_type": "stream",
          "name": "stdout",
          "text": [
            "kanjanavattana\n"
          ]
        }
      ]
    }
  ]
}