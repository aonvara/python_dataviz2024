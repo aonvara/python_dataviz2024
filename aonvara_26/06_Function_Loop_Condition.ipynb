{
  "cells": [
    {
      "cell_type": "markdown",
      "metadata": {
        "id": "view-in-github",
        "colab_type": "text"
      },
      "source": [
        "<a href=\"https://colab.research.google.com/github/aonvara/python_dataviz2024/blob/main/aonvara_26/06_Function_Loop_Condition.ipynb\" target=\"_parent\"><img src=\"https://colab.research.google.com/assets/colab-badge.svg\" alt=\"Open In Colab\"/></a>"
      ]
    },
    {
      "cell_type": "markdown",
      "metadata": {
        "id": "TkmTKg-PRBkl"
      },
      "source": [
        "HW1 note"
      ]
    },
    {
      "cell_type": "code",
      "execution_count": null,
      "metadata": {
        "colab": {
          "base_uri": "https://localhost:8080/"
        },
        "id": "bdP6wEOBRDyC",
        "outputId": "49e15bef-e4fd-4753-ca97-9e06f5528893"
      },
      "outputs": [
        {
          "data": {
            "text/plain": [
              "['12:30:15', '13:41:07']"
            ]
          },
          "execution_count": 51,
          "metadata": {},
          "output_type": "execute_result"
        }
      ],
      "source": [
        "inp = '12:30:15 - 13:41:07'\n",
        "inp_list = inp.split(' - ')\n",
        "inp_list"
      ]
    },
    {
      "cell_type": "markdown",
      "metadata": {
        "id": "-57L9aVubPqU"
      },
      "source": [
        "# Function"
      ]
    },
    {
      "cell_type": "markdown",
      "metadata": {
        "id": "1DNzYhO4bPqb"
      },
      "source": [
        "## Function template\n",
        "#### ทำหน้าที่รับ input มาประมวณผลออกมาเป็น output\n",
        "#### f(x) = y"
      ]
    },
    {
      "cell_type": "markdown",
      "metadata": {
        "id": "3Nv1ZDEKbPqc"
      },
      "source": [
        "### def คือการกำหนดฟังก์ชัน"
      ]
    },
    {
      "cell_type": "markdown",
      "metadata": {
        "id": "YnjWc1vXl1VF"
      },
      "source": [
        "\n",
        "backtick (`) ==> กด ~ ค้าง, alt - 9>6 (full keyboard with number)\n",
        "\n",
        "tilde (~)\n",
        "\n",
        "curly bracket ({ })\n",
        "\n",
        "square bracket ([ ])"
      ]
    },
    {
      "cell_type": "markdown",
      "metadata": {
        "id": "DbHDoWEabPqc"
      },
      "source": [
        "```python\n",
        "    def function_name(_Input_) :\n",
        "        do_something with _Input_ to get _Output_\n",
        "        return _Output_\n",
        "```"
      ]
    },
    {
      "cell_type": "markdown",
      "metadata": {
        "id": "1fuimreqpVhU"
      },
      "source": [
        "เราใช้ เว้นวรรค (indent) เพื่อบอกขอบเขตของโปรแกรม"
      ]
    },
    {
      "cell_type": "markdown",
      "metadata": {
        "id": "kh2M1smCl5Iv"
      },
      "source": [
        "function มีส่วนสำคัญทั้งหมด 4 ส่วน\n",
        "\n",
        "1.   บอก python ว่าเราจะเขียนฟังก์ชั่น ชื่ออะไร  ```def function_name():``` (ขาดไม่ได้)\n",
        "2.   กำหนดตัวแปรที่จะเป็น input  ```_Input_``` (ขาดได้)\n",
        "3.   ส่วนประมวลผล ```do_something with _Input_ to get _Output_``` (ขาดไม่ได้)\n",
        "4.   ส่วน output ```return _Output_```(ขาดได้)\n",
        "\n"
      ]
    },
    {
      "cell_type": "markdown",
      "metadata": {
        "id": "lqWzVN5AbPqc"
      },
      "source": [
        "#### ตัวอย่างการเขียน normal function\n"
      ]
    },
    {
      "cell_type": "code",
      "execution_count": null,
      "metadata": {
        "id": "9ERhcrbeTnXY"
      },
      "outputs": [],
      "source": [
        "#ไม่มี input, output และสิ่งที่เกิดขึ้นไปอยู่ใน memory\n",
        "def print_myname() :\n",
        "    print('Thanapong')"
      ]
    },
    {
      "cell_type": "code",
      "execution_count": null,
      "metadata": {
        "colab": {
          "base_uri": "https://localhost:8080/"
        },
        "id": "qRLLeAd3Ucdo",
        "outputId": "05014c1e-f489-4b63-a752-a92f00157bda"
      },
      "outputs": [
        {
          "name": "stdout",
          "output_type": "stream",
          "text": [
            "Thanapong\n"
          ]
        }
      ],
      "source": [
        "print_myname()"
      ]
    },
    {
      "cell_type": "code",
      "execution_count": null,
      "metadata": {
        "id": "n706WULobPqc"
      },
      "outputs": [],
      "source": [
        "def print_name(surname,ID,name):  #มี input หลายตัว, output หนึ่งตัว และสิ่งที่เกิดขึ้นไปอยู่ใน memory\n",
        "    st = f'ชื่อ {name} นามสกุล {surname} รหัส {ID}'\n",
        "    return st"
      ]
    },
    {
      "cell_type": "code",
      "execution_count": null,
      "metadata": {
        "colab": {
          "base_uri": "https://localhost:8080/",
          "height": 35
        },
        "id": "muh0pi_Gkym8",
        "outputId": "6ff34538-3a3b-4c93-8cd1-fe5cd357efce"
      },
      "outputs": [
        {
          "data": {
            "application/vnd.google.colaboratory.intrinsic+json": {
              "type": "string"
            },
            "text/plain": [
              "'ชื่อ ธนพงศ์ นามสกุล อินทระ รหัส 64xxxxxx'"
            ]
          },
          "execution_count": 9,
          "metadata": {},
          "output_type": "execute_result"
        }
      ],
      "source": [
        "print_name('อินทระ','64xxxxxx','ธนพงศ์')"
      ]
    },
    {
      "cell_type": "code",
      "execution_count": null,
      "metadata": {
        "colab": {
          "base_uri": "https://localhost:8080/"
        },
        "id": "I1Kt_GOpbPqd",
        "outputId": "a811517b-9abc-4feb-8474-df5a21a41ad5"
      },
      "outputs": [
        {
          "name": "stdout",
          "output_type": "stream",
          "text": [
            "ชื่อ กาญจนา นามสกุล ประสาคุณ รหัส 603021855-2\n"
          ]
        }
      ],
      "source": [
        "print(print_name(name='กาญจนา',surname='ประสาคุณ',ID='603021855-2'))"
      ]
    },
    {
      "cell_type": "markdown",
      "metadata": {
        "id": "U8fS2ereWkbm"
      },
      "source": [
        "### ข้อแตกต่างระหว่าง function ที่มีและไม่มี output"
      ]
    },
    {
      "cell_type": "code",
      "execution_count": null,
      "metadata": {
        "colab": {
          "base_uri": "https://localhost:8080/"
        },
        "id": "e-_muRCDWN88",
        "outputId": "5d9b8c6d-2796-4858-dbc4-cf1cbcffc95d"
      },
      "outputs": [
        {
          "name": "stdout",
          "output_type": "stream",
          "text": [
            "ชื่อ กาญจนา นามสกุล ประสาคุณ รหัส 603021855-2\n"
          ]
        }
      ],
      "source": [
        "out_printname1 = print_name(name='กาญจนา',surname='ประสาคุณ',ID='603021855-2') #มี output\n",
        "print(out_printname1)"
      ]
    },
    {
      "cell_type": "markdown",
      "metadata": {
        "id": "_sGlbQyQXPQT"
      },
      "source": [
        "จากโค้ดข้างบนจะเห็นว่ามี Output บรรทัดเดียว เป็นผลมาจากคำสั่งบรรทัดที่ 2 เกิดจากการที่เรามี return ใน print_name"
      ]
    },
    {
      "cell_type": "code",
      "execution_count": null,
      "metadata": {
        "colab": {
          "base_uri": "https://localhost:8080/",
          "height": 35
        },
        "id": "7rJDJBF-XGbD",
        "outputId": "b23179bb-0e17-4062-d37c-52697a38aaf6"
      },
      "outputs": [
        {
          "data": {
            "application/vnd.google.colaboratory.intrinsic+json": {
              "type": "string"
            },
            "text/plain": [
              "'ชื่อ กาญจนา นามสกุล ประสาคุณ รหัส 603021855-2'"
            ]
          },
          "execution_count": 18,
          "metadata": {},
          "output_type": "execute_result"
        }
      ],
      "source": [
        "out_printname1 #มีค่าขึ้นมา"
      ]
    },
    {
      "cell_type": "code",
      "execution_count": null,
      "metadata": {
        "id": "bZWGBfQ9X5DK"
      },
      "outputs": [],
      "source": [
        "def print_name2(surname,ID,name):\n",
        "    st = f'ชื่อ {name} นามสกุล {surname} รหัส {ID}'\n",
        "    print(st)"
      ]
    },
    {
      "cell_type": "code",
      "execution_count": null,
      "metadata": {
        "colab": {
          "base_uri": "https://localhost:8080/"
        },
        "id": "_8MD8RxeWd01",
        "outputId": "9dcc2db0-564a-4f2c-8ccd-da17aa5e1e86"
      },
      "outputs": [
        {
          "name": "stdout",
          "output_type": "stream",
          "text": [
            "ชื่อ กาญจนา นามสกุล ประสาคุณ รหัส 603021855-2\n",
            "None\n"
          ]
        }
      ],
      "source": [
        "out_printname2 = print_name2(name='กาญจนา',surname='ประสาคุณ',ID='603021855-2') #ไม่มี output\n",
        "print(out_printname2)"
      ]
    },
    {
      "cell_type": "markdown",
      "metadata": {
        "id": "FOR_Q6Z0Xr6k"
      },
      "source": [
        "แต่กรณีโค้ดข้างบนตรงนี้ไม่มี return ผลที่เห็นจะมาจากบรรทัดแรก แต่บรรทักที่สองจะไม่ให้ค่าอะไรออกมา"
      ]
    },
    {
      "cell_type": "code",
      "execution_count": null,
      "metadata": {
        "id": "7a_Kri7eXL_w"
      },
      "outputs": [],
      "source": [
        "out_printname2"
      ]
    },
    {
      "cell_type": "markdown",
      "metadata": {
        "id": "tSV-FUQBpx0i"
      },
      "source": [
        "ฟังก์ชั่นไม่จำเป็นต้องมี output"
      ]
    },
    {
      "cell_type": "code",
      "execution_count": null,
      "metadata": {
        "id": "loNAFSvLo5dC"
      },
      "outputs": [],
      "source": [
        "def print_name2(surname,ID,name):\n",
        "    st = f'ชื่อ {name} นามสกุล {surname} รหัส {ID}'\n",
        "    print(st)"
      ]
    },
    {
      "cell_type": "code",
      "execution_count": null,
      "metadata": {
        "colab": {
          "base_uri": "https://localhost:8080/"
        },
        "id": "JE88oCj8o_j_",
        "outputId": "cd548dc0-6258-4bfc-9fbf-2f0871d25a71"
      },
      "outputs": [
        {
          "name": "stdout",
          "output_type": "stream",
          "text": [
            "ชื่อ กาญจนา นามสกุล ประสาคุณ รหัส 603021855-2\n"
          ]
        }
      ],
      "source": [
        "print_name2(name='กาญจนา',surname='ประสาคุณ',ID='603021855-2')"
      ]
    },
    {
      "cell_type": "markdown",
      "metadata": {
        "id": "JF4RdyEBqPyl"
      },
      "source": [
        "ฟังก์ชั่นไม่จำเป็นต้องมี input"
      ]
    },
    {
      "cell_type": "code",
      "execution_count": null,
      "metadata": {
        "id": "LNb_o_ZXo_gh"
      },
      "outputs": [],
      "source": [
        "def Pi():\n",
        "    return 3.14159265359"
      ]
    },
    {
      "cell_type": "code",
      "execution_count": null,
      "metadata": {
        "colab": {
          "base_uri": "https://localhost:8080/"
        },
        "id": "htN6zLbFo_dr",
        "outputId": "4e015946-8d9d-4f9b-8b59-dc5ff0c325f8"
      },
      "outputs": [
        {
          "data": {
            "text/plain": [
              "12.56637061436"
            ]
          },
          "execution_count": 16,
          "metadata": {
            "tags": []
          },
          "output_type": "execute_result"
        }
      ],
      "source": [
        "Pi()*(2**2) # หาพื้นที่ของวงกลมที่มีรัศมีเท่ากับ Pi * r^2"
      ]
    },
    {
      "cell_type": "markdown",
      "metadata": {
        "id": "ywc0Ho-_rUTu"
      },
      "source": [
        "## เราสามารถกำหนดค่า default ให้กับ input ฟังก์ชั่นได้"
      ]
    },
    {
      "cell_type": "markdown",
      "metadata": {
        "id": "y_74dHkjxS7f"
      },
      "source": [
        "input ของ function ใน python มีสองแบบ input ที่จำเป็นต้องใส่ กับ input ที่ไม่จำเป็นต้องใส่ (มีค่า default)\n",
        "\n",
        "เราต้องเรียง input ที่จำเป็นต้องใส่ขึ้นก่อน"
      ]
    },
    {
      "cell_type": "code",
      "execution_count": null,
      "metadata": {
        "id": "0Lrh-6mAo_bA"
      },
      "outputs": [],
      "source": [
        "def print_2lines_default(name,surname,ID,grade='F'): #มีแค่เกรดที่มีค่า default ดังนั้นต้องการ input แค่ 3 ตัว\n",
        "    st = f'ชื่อ {name} นามสกุล {surname} รหัส {ID}'\n",
        "    print (st)\n",
        "    st2=f'เกรดวิชา Data Viz >>> {grade}'\n",
        "    print(st2)"
      ]
    },
    {
      "cell_type": "code",
      "execution_count": null,
      "metadata": {
        "colab": {
          "base_uri": "https://localhost:8080/"
        },
        "id": "ZH31VIjko_WP",
        "outputId": "25c9fa14-78e9-4c16-93c1-f61a174a0b16"
      },
      "outputs": [
        {
          "name": "stdout",
          "output_type": "stream",
          "text": [
            "ชื่อ ธันยาการต์ นามสกุล พวงมาลัย รหัส 613020551-8\n",
            "เกรดวิชา Data Viz >>> F\n"
          ]
        }
      ],
      "source": [
        "print_2lines_default('ธันยาการต์','พวงมาลัย','613020551-8')"
      ]
    },
    {
      "cell_type": "code",
      "execution_count": null,
      "metadata": {
        "colab": {
          "base_uri": "https://localhost:8080/"
        },
        "id": "FKGr2Iyuo_S2",
        "outputId": "9cbd0513-8d30-4cc4-c05b-7f4b617470f0"
      },
      "outputs": [
        {
          "name": "stdout",
          "output_type": "stream",
          "text": [
            "ชื่อ ธันยาการต์ นามสกุล พวงมาลัย รหัส 613020551-8\n",
            "เกรดวิชา Data Viz >>> A\n"
          ]
        }
      ],
      "source": [
        "print_2lines_default('ธันยาการต์','พวงมาลัย','613020551-8','A')"
      ]
    },
    {
      "cell_type": "code",
      "execution_count": null,
      "metadata": {
        "colab": {
          "base_uri": "https://localhost:8080/"
        },
        "id": "NCc9Cnh-ZQRq",
        "outputId": "64e26ad2-d3c4-470a-e5b8-6acc75d14cff"
      },
      "outputs": [
        {
          "name": "stdout",
          "output_type": "stream",
          "text": [
            "ชื่อ ธันยาการต์ นามสกุล พวงมาลัย รหัส 613020551-8\n",
            "เกรดวิชา Data Viz >>> A\n"
          ]
        }
      ],
      "source": [
        "print_2lines_default('ธันยาการต์','พวงมาลัย','613020551-8',grade='A')"
      ]
    },
    {
      "cell_type": "code",
      "execution_count": null,
      "metadata": {
        "colab": {
          "base_uri": "https://localhost:8080/",
          "height": 141
        },
        "id": "8AznBf36Z46E",
        "outputId": "0c650f03-9558-469e-80d9-8f822960ed1a"
      },
      "outputs": [
        {
          "ename": "TypeError",
          "evalue": "print_2lines_default() missing 1 required positional argument: 'ID'",
          "output_type": "error",
          "traceback": [
            "\u001b[0;31m---------------------------------------------------------------------------\u001b[0m",
            "\u001b[0;31mTypeError\u001b[0m                                 Traceback (most recent call last)",
            "\u001b[0;32m<ipython-input-28-800069358ecd>\u001b[0m in \u001b[0;36m<cell line: 1>\u001b[0;34m()\u001b[0m\n\u001b[0;32m----> 1\u001b[0;31m \u001b[0mprint_2lines_default\u001b[0m\u001b[0;34m(\u001b[0m\u001b[0;34m'ธันยาการต์'\u001b[0m\u001b[0;34m,\u001b[0m\u001b[0;34m'พวงมาลัย'\u001b[0m\u001b[0;34m)\u001b[0m\u001b[0;34m\u001b[0m\u001b[0;34m\u001b[0m\u001b[0m\n\u001b[0m",
            "\u001b[0;31mTypeError\u001b[0m: print_2lines_default() missing 1 required positional argument: 'ID'"
          ]
        }
      ],
      "source": [
        "print_2lines_default('ธันยาการต์','พวงมาลัย')"
      ]
    },
    {
      "cell_type": "markdown",
      "metadata": {
        "id": "tdTl3toEePmL"
      },
      "source": [
        "# **Quiz3**"
      ]
    },
    {
      "cell_type": "markdown",
      "metadata": {
        "id": "Wx0oHn1IbAZI"
      },
      "source": [
        "## เขียน fuction ที่รับ input หนึ่งตัว ตาม format hh1:mm1:ss1 - hh2:mm2:ss2 และคำนวณช่วงเวลาเป็นวินาที ที่ห่างกันระหว่าง time1 และ time2 โดยยังไม่ต้องสนใจว่า time2 สามารถข้ามไปอีกวันได้"
      ]
    },
    {
      "cell_type": "code",
      "execution_count": null,
      "metadata": {
        "id": "V9yiWA3ha80X"
      },
      "outputs": [],
      "source": [
        "def time_diff(time):\n",
        "  inp_list = time.split('-')\n",
        "  inp_list2 = inp_list[0].split(':')\n",
        "  inp_list3 = inp_list[1].split(':')\n",
        "  t1_sec = int(inp_list2[0])*3600 + int(inp_list2[1])*60 + int(inp_list2[2])\n",
        "  t2_sec = int(inp_list3[0])*3600 + int(inp_list3[1])*60 + int(inp_list3[2])\n",
        "  pt6 = (t2_sec-t1_sec)\n",
        "  return pt6"
      ]
    },
    {
      "cell_type": "code",
      "execution_count": null,
      "metadata": {
        "colab": {
          "base_uri": "https://localhost:8080/"
        },
        "id": "b9PMkqVydXix",
        "outputId": "a88c2925-971f-43c8-ec5c-066ff392cff3"
      },
      "outputs": [
        {
          "name": "stdout",
          "output_type": "stream",
          "text": [
            "960\n"
          ]
        }
      ],
      "source": [
        "print(time_diff('18:09:10 - 18:25:10'))"
      ]
    },
    {
      "cell_type": "markdown",
      "metadata": {
        "id": "whdMFAsaglRD"
      },
      "source": [
        "# **Quiz3.5**"
      ]
    },
    {
      "cell_type": "markdown",
      "metadata": {
        "id": "XvbYyOSegqLX"
      },
      "source": [
        "## รับ input 2 ตัว โดยตั้งค่า time1 เป็น 00:00:00"
      ]
    },
    {
      "cell_type": "code",
      "execution_count": null,
      "metadata": {
        "id": "i9NWDgs2g010"
      },
      "outputs": [],
      "source": [
        "def time_diff2(time2, time1 = '00:00:00'):\n",
        "  inp_list2 = time1.split(':')\n",
        "  inp_list3 = time2.split(':')\n",
        "  t1_sec = int(inp_list2[0])*3600 + int(inp_list2[1])*60 + int(inp_list2[2])\n",
        "  t2_sec = int(inp_list3[0])*3600 + int(inp_list3[1])*60 + int(inp_list3[2])\n",
        "  pt6 = (t2_sec-t1_sec)\n",
        "  return pt6"
      ]
    },
    {
      "cell_type": "code",
      "execution_count": null,
      "metadata": {
        "colab": {
          "base_uri": "https://localhost:8080/"
        },
        "id": "9bSdQ51BiHy3",
        "outputId": "00286c25-9ff6-4b39-b34b-6fcbf69ffa79"
      },
      "outputs": [
        {
          "name": "stdout",
          "output_type": "stream",
          "text": [
            "45015\n"
          ]
        }
      ],
      "source": [
        "print(time_diff2('12:30:15'))"
      ]
    },
    {
      "cell_type": "markdown",
      "metadata": {
        "id": "y987E_IrtavC"
      },
      "source": [
        "# **Homework**"
      ]
    },
    {
      "cell_type": "markdown",
      "metadata": {
        "id": "Lfu2U-tutggQ"
      },
      "source": [
        "# HW2: การบ้านครั้งที่ 2\n",
        "**รายวิชา Basic Programming for Data Science and Data Visualization**\n",
        "\n",
        "นางสาวอรวรา กาญจนวัฒนา 643020095-1 (24/06/2567)"
      ]
    },
    {
      "cell_type": "markdown",
      "metadata": {
        "id": "-FgJCdHQtBfJ"
      },
      "source": [
        "## **โจทย์** วนลูปหาช่วงเวลาเป็นวินาที ที่ห่างกันระหว่าง time1 และ time2 ต่อไปนี้\n",
        "\n",
        "18:09:10 - 18:25:10\n",
        "\n",
        "13:38:39 - 23:54:39\n",
        "\n",
        "16:49:58 - 18:05:58\n",
        "\n",
        "21:49:10 - 22:24:10\n",
        "\n",
        "08:52:21 - 09:25:21\n",
        "\n",
        "06:56:26 - 07:49:26\n",
        "\n",
        "12:08:05 - 12:43:05\n",
        "\n",
        "01:48:38 - 07:18:38\n",
        "\n",
        "08:51:21 - 10:17:21\n",
        "\n",
        "17:05:17 - 18:09:17"
      ]
    },
    {
      "cell_type": "code",
      "execution_count": null,
      "metadata": {
        "id": "vR41hziN-YtG"
      },
      "outputs": [],
      "source": [
        "time_list = ['18:09:10 - 18:25:10', '13:38:39 - 23:54:39', '16:49:58 - 18:05:58', '21:49:10 - 22:24:10', '08:52:21 - 09:25:21',\n",
        "             '06:56:26 - 07:49:26', '12:08:05 - 12:43:05', '01:48:38 - 07:18:38', '08:51:21 - 10:17:21', '17:05:17 - 18:09:17']"
      ]
    },
    {
      "cell_type": "code",
      "source": [
        "def time_diff_hw2(time_list):\n",
        "  hw2_1 = hw.split('-')               #แบ่งระหว่าง time1 และ time2\n",
        "  hw2_2 = hw2_1[0].split(':')     #แบ่งชั่วโมง นาที และวินาทีของ time1\n",
        "  hw2_3 = hw2_1[1].split(':')     #แบ่งชั่วโมง นาที และวินาทีของ time2\n",
        "  hw2_sec_1 = int(hw2_2[0])*3600 + int(hw2_2[1])*60 + int(hw2_2[2]) #แปลงเป็นวินาทีของ time1\n",
        "  hw2_sec_2 = int(hw2_3[0])*3600 + int(hw2_3[1])*60 + int(hw2_3[2]) #แปลงเป็นวินาทีของ time2\n",
        "  hw2_4 = (hw2_sec_2-hw2_sec_1) #คำนวณระหว่าง time1 และ time2\n",
        "  return hw2_4"
      ],
      "metadata": {
        "id": "j_ByvLpqHchw"
      },
      "execution_count": null,
      "outputs": []
    },
    {
      "cell_type": "markdown",
      "source": [
        "## **คำตอบ**"
      ],
      "metadata": {
        "id": "IDM3nSiPbsOC"
      }
    },
    {
      "cell_type": "code",
      "source": [
        "print(f'วนลูปหาช่วงเวลาเป็นวินาที ที่ห่างกันระหว่าง time1 และ time2 ไล่ตั้งแต่ข้อที่ 1-10 ต่อไปนี้')\n",
        "for hw in time_list:\n",
        "  print(f' ตอบ {time_diff_hw2(hw)} วินาที')"
      ],
      "metadata": {
        "colab": {
          "base_uri": "https://localhost:8080/"
        },
        "id": "hcC4cfsqXwEy",
        "outputId": "3e466f44-4732-41af-b5d4-3227f92aba6f"
      },
      "execution_count": null,
      "outputs": [
        {
          "output_type": "stream",
          "name": "stdout",
          "text": [
            "วนลูปหาช่วงเวลาเป็นวินาที ที่ห่างกันระหว่าง time1 และ time2 ไล่ตั้งแต่ข้อที่ 1-10 ต่อไปนี้\n",
            " ตอบ 960 วินาที\n",
            " ตอบ 36960 วินาที\n",
            " ตอบ 4560 วินาที\n",
            " ตอบ 2100 วินาที\n",
            " ตอบ 1980 วินาที\n",
            " ตอบ 3180 วินาที\n",
            " ตอบ 2100 วินาที\n",
            " ตอบ 19800 วินาที\n",
            " ตอบ 5160 วินาที\n",
            " ตอบ 3840 วินาที\n"
          ]
        }
      ]
    },
    {
      "cell_type": "markdown",
      "metadata": {
        "id": "UB5fTAr3bPqg"
      },
      "source": [
        "# LOOP การวนซ้ำ"
      ]
    },
    {
      "cell_type": "markdown",
      "metadata": {
        "id": "gpIwjDjg0gfJ"
      },
      "source": [
        "for เป็นคำที่ใช้บอก python ว่าเรากำลังเขียน loop\n",
        "โดย for จะวนดึงสมาชิกจาก ```listA``` มาทำ process ```do_something```"
      ]
    },
    {
      "cell_type": "markdown",
      "metadata": {
        "id": "6XS2wO4_bPqg"
      },
      "source": [
        "```python\n",
        "    for each_member in listA :\n",
        "        do_something\n",
        "```"
      ]
    },
    {
      "cell_type": "markdown",
      "metadata": {
        "id": "d7kQ2AEcbPqg"
      },
      "source": [
        "#### คำสั่ง for เป็นคำสั่งวนซ้ำที่ใช้ควบคุมการทำงานซ้ำๆ ในจำนวนรอบที่แน่นอน"
      ]
    },
    {
      "cell_type": "code",
      "execution_count": null,
      "metadata": {
        "colab": {
          "base_uri": "https://localhost:8080/"
        },
        "id": "NcT-s7TEbPqg",
        "outputId": "2b283a92-18e2-4ac1-b9bc-e077db96f916"
      },
      "outputs": [
        {
          "name": "stdout",
          "output_type": "stream",
          "text": [
            "this member = 1 after process = 1\n",
            "this member = 2 after process = 4\n",
            "this member = 3 after process = 9\n"
          ]
        }
      ],
      "source": [
        "for i in [1,2,3] :\n",
        "    o = i**2\n",
        "    print (f'this member = {i} after process = {o}')"
      ]
    },
    {
      "cell_type": "markdown",
      "metadata": {
        "id": "YbnFaiU2bPqg"
      },
      "source": [
        "#### ตัวอย่างการใช้คำสั่ง for ในการวนซ้ำค่าของ i เมื่อ i คือ 'Thanapong' และคำสั่ง print(f'{i} -> /') เพื่อกำหนดให้ผลลัพธ์แสดงสัญลักษณ์ -> /  จากนั้นเพิ่มคำสั่ง print(' ') อีกครั้งเพื่อให้ผลลัพธ์มีการเว้นวรรค"
      ]
    },
    {
      "cell_type": "code",
      "execution_count": null,
      "metadata": {
        "colab": {
          "base_uri": "https://localhost:8080/"
        },
        "id": "kstoI_CEbPqh",
        "outputId": "d4229c08-7f1a-4994-c08d-ff59d1c2838b"
      },
      "outputs": [
        {
          "name": "stdout",
          "output_type": "stream",
          "text": [
            "T -> / \n",
            "h -> / \n",
            "a -> / \n",
            "n -> / \n",
            "a -> / \n",
            "p -> / \n",
            "o -> / \n",
            "n -> / \n",
            "g -> / \n"
          ]
        }
      ],
      "source": [
        "for i in 'Thanapong':\n",
        "    print(f'{i} -> / ' )"
      ]
    },
    {
      "cell_type": "code",
      "execution_count": null,
      "metadata": {
        "colab": {
          "base_uri": "https://localhost:8080/"
        },
        "id": "mQmh0Ip-V8qR",
        "outputId": "a67e887f-abee-445c-dd33-16eb805b5418"
      },
      "outputs": [
        {
          "name": "stdout",
          "output_type": "stream",
          "text": [
            "T -> / h -> / a -> / n -> / a -> / p -> / o -> / n -> / g -> / "
          ]
        }
      ],
      "source": [
        "for i in 'Thanapong':\n",
        "    print(f'{i} -> / ' ,end = '') #สั่งให้ print แบบ ไม่เว้นบรรทัด"
      ]
    },
    {
      "cell_type": "code",
      "execution_count": null,
      "metadata": {
        "colab": {
          "base_uri": "https://localhost:8080/"
        },
        "id": "rswo2JlyW0Ou",
        "outputId": "85003545-c15a-4eef-ca51-12b34ffc13ad"
      },
      "outputs": [
        {
          "name": "stdout",
          "output_type": "stream",
          "text": [
            "T -> / ,h -> / ,a -> / ,n -> / ,a -> / ,p -> / ,o -> / ,n -> / ,g -> / ,"
          ]
        }
      ],
      "source": [
        "for i in 'Thanapong':\n",
        "    print(f'{i} -> / ' ,end = ',') #สั่งให้ print แบบ ไม่เว้นบรรทัด"
      ]
    },
    {
      "cell_type": "markdown",
      "metadata": {
        "id": "3_I0IHOqXMIr"
      },
      "source": [
        "## สร้าง list ตัวเลขแบบอัตโนมัติ  range()"
      ]
    },
    {
      "cell_type": "code",
      "execution_count": null,
      "metadata": {
        "colab": {
          "base_uri": "https://localhost:8080/"
        },
        "id": "ensAuLXBW-0P",
        "outputId": "f00a58d7-d9d7-4fb6-a11d-cf375cf362c7"
      },
      "outputs": [
        {
          "name": "stdout",
          "output_type": "stream",
          "text": [
            "[0, 1, 2, 3, 4]\n"
          ]
        }
      ],
      "source": [
        "range5_output = range(5)\n",
        "print(list(range5_output))"
      ]
    },
    {
      "cell_type": "code",
      "execution_count": null,
      "metadata": {
        "colab": {
          "base_uri": "https://localhost:8080/"
        },
        "id": "r8JXggPKXrEx",
        "outputId": "1c7fb34d-6edb-4ce1-e0f7-84635ab7073b"
      },
      "outputs": [
        {
          "name": "stdout",
          "output_type": "stream",
          "text": [
            "พี่ไซลัสหล่อมาก พี่ไซลัสหล่อมาก พี่ไซลัสหล่อมาก พี่ไซลัสหล่อมาก พี่ไซลัสหล่อมาก พี่ไซลัสหล่อมาก พี่ไซลัสหล่อมาก พี่ไซลัสหล่อมาก พี่ไซลัสหล่อมาก พี่ไซลัสหล่อมาก พี่ไซลัสหล่อมาก พี่ไซลัสหล่อมาก พี่ไซลัสหล่อมาก พี่ไซลัสหล่อมาก พี่ไซลัสหล่อมาก พี่ไซลัสหล่อมาก พี่ไซลัสหล่อมาก พี่ไซลัสหล่อมาก พี่ไซลัสหล่อมาก พี่ไซลัสหล่อมาก พี่ไซลัสหล่อมาก พี่ไซลัสหล่อมาก พี่ไซลัสหล่อมาก พี่ไซลัสหล่อมาก พี่ไซลัสหล่อมาก พี่ไซลัสหล่อมาก พี่ไซลัสหล่อมาก พี่ไซลัสหล่อมาก พี่ไซลัสหล่อมาก พี่ไซลัสหล่อมาก พี่ไซลัสหล่อมาก พี่ไซลัสหล่อมาก พี่ไซลัสหล่อมาก พี่ไซลัสหล่อมาก พี่ไซลัสหล่อมาก พี่ไซลัสหล่อมาก พี่ไซลัสหล่อมาก พี่ไซลัสหล่อมาก พี่ไซลัสหล่อมาก พี่ไซลัสหล่อมาก พี่ไซลัสหล่อมาก พี่ไซลัสหล่อมาก พี่ไซลัสหล่อมาก พี่ไซลัสหล่อมาก พี่ไซลัสหล่อมาก พี่ไซลัสหล่อมาก พี่ไซลัสหล่อมาก พี่ไซลัสหล่อมาก พี่ไซลัสหล่อมาก พี่ไซลัสหล่อมาก พี่ไซลัสหล่อมาก พี่ไซลัสหล่อมาก พี่ไซลัสหล่อมาก พี่ไซลัสหล่อมาก พี่ไซลัสหล่อมาก พี่ไซลัสหล่อมาก พี่ไซลัสหล่อมาก พี่ไซลัสหล่อมาก พี่ไซลัสหล่อมาก พี่ไซลัสหล่อมาก พี่ไซลัสหล่อมาก พี่ไซลัสหล่อมาก พี่ไซลัสหล่อมาก พี่ไซลัสหล่อมาก พี่ไซลัสหล่อมาก พี่ไซลัสหล่อมาก พี่ไซลัสหล่อมาก พี่ไซลัสหล่อมาก พี่ไซลัสหล่อมาก พี่ไซลัสหล่อมาก พี่ไซลัสหล่อมาก พี่ไซลัสหล่อมาก พี่ไซลัสหล่อมาก พี่ไซลัสหล่อมาก พี่ไซลัสหล่อมาก พี่ไซลัสหล่อมาก พี่ไซลัสหล่อมาก พี่ไซลัสหล่อมาก พี่ไซลัสหล่อมาก พี่ไซลัสหล่อมาก พี่ไซลัสหล่อมาก พี่ไซลัสหล่อมาก พี่ไซลัสหล่อมาก พี่ไซลัสหล่อมาก พี่ไซลัสหล่อมาก พี่ไซลัสหล่อมาก พี่ไซลัสหล่อมาก พี่ไซลัสหล่อมาก พี่ไซลัสหล่อมาก พี่ไซลัสหล่อมาก พี่ไซลัสหล่อมาก พี่ไซลัสหล่อมาก พี่ไซลัสหล่อมาก พี่ไซลัสหล่อมาก พี่ไซลัสหล่อมาก พี่ไซลัสหล่อมาก พี่ไซลัสหล่อมาก พี่ไซลัสหล่อมาก พี่ไซลัสหล่อมาก พี่ไซลัสหล่อมาก "
          ]
        }
      ],
      "source": [
        "for i in range(100):\n",
        "    print('พี่ไซลัสหล่อมาก',end=' ')"
      ]
    },
    {
      "cell_type": "code",
      "execution_count": null,
      "metadata": {
        "colab": {
          "base_uri": "https://localhost:8080/"
        },
        "id": "RLvhNqw8YpKa",
        "outputId": "67e36f13-9872-4f1a-f409-e188b63d87b4"
      },
      "outputs": [
        {
          "output_type": "execute_result",
          "data": {
            "text/plain": [
              "[1, 2, 3, 4, 5, 6, 7, 8, 9, 10]"
            ]
          },
          "metadata": {},
          "execution_count": 9
        }
      ],
      "source": [
        "list(range(1,11)) #เริ่มต้นเป็นวงทึบ จบเป็นวงกลมโปร่ง เหมือน list slicing"
      ]
    },
    {
      "cell_type": "code",
      "execution_count": null,
      "metadata": {
        "colab": {
          "base_uri": "https://localhost:8080/"
        },
        "id": "MqXQ9NLGcW-r",
        "outputId": "df422ded-e04e-4d11-f27e-d8c966c80c69"
      },
      "outputs": [
        {
          "data": {
            "text/plain": [
              "[-3, 1, 5, 9, 13, 17]"
            ]
          },
          "execution_count": 44,
          "metadata": {},
          "output_type": "execute_result"
        }
      ],
      "source": [
        "list(range(-3,20,4))"
      ]
    },
    {
      "cell_type": "markdown",
      "metadata": {
        "id": "vPcR4tJebPqi"
      },
      "source": [
        "### loop in loop\n",
        "#### สามารถใช้ for loop ซ้อนกันสองรอบได้¶"
      ]
    },
    {
      "cell_type": "code",
      "execution_count": null,
      "metadata": {
        "colab": {
          "base_uri": "https://localhost:8080/"
        },
        "id": "TKRcpd5DbPqi",
        "outputId": "d601a507-4409-4c78-9b48-cbef8452c497"
      },
      "outputs": [
        {
          "name": "stdout",
          "output_type": "stream",
          "text": [
            "now name1 = 2\n",
            "2  x  1  =  2\n",
            "2  x  2  =  4\n",
            "2  x  3  =  6\n",
            "2  x  4  =  8\n",
            "2  x  5  =  10\n",
            "2  x  6  =  12\n",
            "2  x  7  =  14\n",
            "2  x  8  =  16\n",
            "2  x  9  =  18\n",
            "2  x  10  =  20\n",
            "2  x  11  =  22\n",
            "2  x  12  =  24\n",
            "the inner loop is end\n",
            "now name1 = 3\n",
            "3  x  1  =  3\n",
            "3  x  2  =  6\n",
            "3  x  3  =  9\n",
            "3  x  4  =  12\n",
            "3  x  5  =  15\n",
            "3  x  6  =  18\n",
            "3  x  7  =  21\n",
            "3  x  8  =  24\n",
            "3  x  9  =  27\n",
            "3  x  10  =  30\n",
            "3  x  11  =  33\n",
            "3  x  12  =  36\n",
            "the inner loop is end\n",
            "now name1 = 4\n",
            "4  x  1  =  4\n",
            "4  x  2  =  8\n",
            "4  x  3  =  12\n",
            "4  x  4  =  16\n",
            "4  x  5  =  20\n",
            "4  x  6  =  24\n",
            "4  x  7  =  28\n",
            "4  x  8  =  32\n",
            "4  x  9  =  36\n",
            "4  x  10  =  40\n",
            "4  x  11  =  44\n",
            "4  x  12  =  48\n",
            "the inner loop is end\n"
          ]
        }
      ],
      "source": [
        "for name1 in  range(2,5): #(2, 3, 4)\n",
        "    print(f'now name1 = {name1}')\n",
        "    for name2 in  range(1,13):\n",
        "        print(name1,' x ',name2,' = ',name1*name2)\n",
        "    print('the inner loop is end')"
      ]
    },
    {
      "cell_type": "markdown",
      "metadata": {
        "id": "7-FAZit8bPqi"
      },
      "source": [
        "### loop in function\n",
        "#### การวนลูปในฟังก์ชั่น"
      ]
    },
    {
      "cell_type": "code",
      "execution_count": null,
      "metadata": {
        "id": "S0r5yhbDbPqi"
      },
      "outputs": [],
      "source": [
        "def print_feelings(I,friendS,feeling = 'คิดถึง'):\n",
        "    for friend in friendS:\n",
        "        print(f'{I} {feeling} {friend}')"
      ]
    },
    {
      "cell_type": "code",
      "execution_count": null,
      "metadata": {
        "id": "_oVKj4SRfGS6"
      },
      "outputs": [],
      "source": [
        "list_friends = ['Zayne', 'Rafayel', 'Xaveir', 'Sylus']"
      ]
    },
    {
      "cell_type": "code",
      "execution_count": null,
      "metadata": {
        "colab": {
          "base_uri": "https://localhost:8080/"
        },
        "id": "RepVZqu6bPqi",
        "outputId": "b8a37f60-50e1-4782-d5af-05d638bd3856"
      },
      "outputs": [
        {
          "name": "stdout",
          "output_type": "stream",
          "text": [
            "มายด์ คิดถึง Zayne\n",
            "มายด์ คิดถึง Rafayel\n",
            "มายด์ คิดถึง Xaveir\n",
            "มายด์ คิดถึง Sylus\n"
          ]
        }
      ],
      "source": [
        "print_feelings('มายด์',list_friends)"
      ]
    },
    {
      "cell_type": "code",
      "execution_count": null,
      "metadata": {
        "colab": {
          "base_uri": "https://localhost:8080/"
        },
        "id": "P20pDnVaf2vK",
        "outputId": "d9c1745b-b67c-485f-c8f6-f913e354f52a"
      },
      "outputs": [
        {
          "name": "stdout",
          "output_type": "stream",
          "text": [
            "เจมส์ รัก พี่บูม\n",
            "เจมส์ รัก ดายน์\n",
            "เจมส์ รัก แตงโม\n",
            "เจมส์ รัก ฝน\n",
            "เจมส์ รัก พี่เจ็ท\n",
            "เจมส์ รัก น้องแคมป์\n"
          ]
        }
      ],
      "source": [
        "print_feelings('เจมส์',list_friends,feeling='รัก')"
      ]
    },
    {
      "cell_type": "code",
      "execution_count": null,
      "metadata": {
        "colab": {
          "base_uri": "https://localhost:8080/"
        },
        "id": "SzHamL8JhKG4",
        "outputId": "770cd9ef-3efe-4bb2-c103-9496172cb407"
      },
      "outputs": [
        {
          "name": "stdout",
          "output_type": "stream",
          "text": [
            "เจมส์ รัก พี่บูม\n",
            "เจมส์ รัก ดายน์\n",
            "เจมส์ รัก แตงโม\n",
            "เจมส์ รัก ฝน\n",
            "เจมส์ รัก พี่เจ็ท\n",
            "เจมส์ รัก น้องแคมป์\n"
          ]
        }
      ],
      "source": [
        "print_feelings('เจมส์',list_friends,'รัก')"
      ]
    },
    {
      "cell_type": "markdown",
      "metadata": {
        "id": "uTRUcescnROK"
      },
      "source": [
        "# **จบ 24/06/67**"
      ]
    },
    {
      "cell_type": "markdown",
      "metadata": {
        "id": "vwK7RmRJbPqj"
      },
      "source": [
        "### looping in dict\n",
        "#### ทำการวนลูปในค่า dict โดยที่เรากำหนดตัว key และvalueขึ้นมา ได้ดังนี้\n"
      ]
    },
    {
      "cell_type": "code",
      "execution_count": null,
      "metadata": {
        "id": "HI0F-4HobPqj",
        "outputId": "410e30e2-f4e3-434a-f167-eaad1c7a16a0"
      },
      "outputs": [
        {
          "data": {
            "text/plain": [
              "{'พันทิพา': 'B', 'ศุภนิตา': 'C', 'ปนัดดา': 'A', 'ทรงกลด': 'F'}"
            ]
          },
          "execution_count": 127,
          "metadata": {
            "tags": []
          },
          "output_type": "execute_result"
        }
      ],
      "source": [
        "name_grade = {'พันทิพา' : 'B','ศุภนิตา' : 'C','ปนัดดา' : 'A','ทรงกลด' : 'F'}\n",
        "name_grade"
      ]
    },
    {
      "cell_type": "code",
      "execution_count": null,
      "metadata": {
        "id": "jWf8aBmpbPqj",
        "outputId": "a66f4caa-2f9d-47af-a834-2e1ef0d363e9"
      },
      "outputs": [
        {
          "data": {
            "text/plain": [
              "'A'"
            ]
          },
          "execution_count": 128,
          "metadata": {
            "tags": []
          },
          "output_type": "execute_result"
        }
      ],
      "source": [
        "name_grade['ปนัดดา']"
      ]
    },
    {
      "cell_type": "code",
      "execution_count": null,
      "metadata": {
        "id": "eDqhoebhbPqj",
        "outputId": "9efada52-491a-4315-e0de-f7f1f31b0254",
        "scrolled": true
      },
      "outputs": [
        {
          "name": "stdout",
          "output_type": "stream",
          "text": [
            "พันทิพา\n",
            "ศุภนิตา\n",
            "ปนัดดา\n",
            "ทรงกลด\n"
          ]
        }
      ],
      "source": [
        "for i in name_grade.keys():\n",
        "    print(i)"
      ]
    },
    {
      "cell_type": "code",
      "execution_count": null,
      "metadata": {
        "id": "4CPaOKx-bPqj",
        "outputId": "bef21b54-413a-42af-8325-44c95b6cb285"
      },
      "outputs": [
        {
          "data": {
            "text/plain": [
              "dict_keys(['พันทิพา', 'ศุภนิตา', 'ปนัดดา', 'ทรงกลด'])"
            ]
          },
          "execution_count": 132,
          "metadata": {
            "tags": []
          },
          "output_type": "execute_result"
        }
      ],
      "source": [
        "name_grade.keys()"
      ]
    },
    {
      "cell_type": "code",
      "execution_count": null,
      "metadata": {
        "id": "Imvq4faObPqj",
        "outputId": "9058ef89-ad8b-458c-d02c-c33d258d5745"
      },
      "outputs": [
        {
          "name": "stdout",
          "output_type": "stream",
          "text": [
            "พันทิพา ได้เกรด B\n",
            "ศุภนิตา ได้เกรด C\n",
            "ปนัดดา ได้เกรด A\n",
            "ทรงกลด ได้เกรด F\n"
          ]
        }
      ],
      "source": [
        "for i in name_grade.keys():\n",
        "    print(f'{i} ได้เกรด {name_grade[i]}')"
      ]
    },
    {
      "cell_type": "markdown",
      "metadata": {
        "id": "pLDGW8IobPqk"
      },
      "source": [
        "### conditional คือ เงื่อนไข /ประโยคเงื่อนไข"
      ]
    },
    {
      "cell_type": "markdown",
      "metadata": {
        "id": "8_-zCLkrbPqk"
      },
      "source": [
        "##### True / False\n",
        "##### การวนลูปโดยมีเงื่อนไขต่างๆมาเกี่ยวข้อง โดยมี pattern ดังนี้\n"
      ]
    },
    {
      "cell_type": "markdown",
      "metadata": {
        "id": "ZQuWb-bybPqk"
      },
      "source": [
        "```Python\n",
        "if condition1 :\n",
        "    do something\n",
        "elif condition2 :  #elif คือ else if\n",
        "    do another thing\n",
        "else:\n",
        "    do ...\n",
        "```\n",
        "    "
      ]
    },
    {
      "cell_type": "code",
      "execution_count": null,
      "metadata": {
        "colab": {
          "base_uri": "https://localhost:8080/"
        },
        "id": "6md22aPOlKWX",
        "outputId": "37cec20f-7119-456e-bd93-725c918671c6"
      },
      "outputs": [
        {
          "name": "stdout",
          "output_type": "stream",
          "text": [
            "['พี่บูม', 'ดายน์', 'แตงโม', 'ฝน', 'พี่เจ็ท', 'น้องแคมป์']\n"
          ]
        }
      ],
      "source": [
        "print(list_friends)"
      ]
    },
    {
      "cell_type": "code",
      "execution_count": null,
      "metadata": {
        "colab": {
          "base_uri": "https://localhost:8080/"
        },
        "id": "NsHtmTbjbPqk",
        "outputId": "20ffb4ef-f884-4c2b-e6d2-c9600b1583c0"
      },
      "outputs": [
        {
          "name": "stdout",
          "output_type": "stream",
          "text": [
            "พี่บูม รัก พี่บูม\n",
            "พี่บูม รัก ดายน์\n",
            "พี่บูม รัก แตงโม\n",
            "พี่บูม รัก ฝน\n",
            "พี่บูม รัก พี่เจ็ท\n",
            "พี่บูม รัก น้องแคมป์\n",
            "ดายน์ รัก พี่บูม\n",
            "ดายน์ รัก ดายน์\n",
            "ดายน์ รัก แตงโม\n",
            "ดายน์ รัก ฝน\n",
            "ดายน์ รัก พี่เจ็ท\n",
            "ดายน์ รัก น้องแคมป์\n",
            "แตงโม รัก พี่บูม\n",
            "แตงโม รัก ดายน์\n",
            "แตงโม รัก แตงโม\n",
            "แตงโม รัก ฝน\n",
            "แตงโม รัก พี่เจ็ท\n",
            "แตงโม รัก น้องแคมป์\n",
            "ฝน รัก พี่บูม\n",
            "ฝน รัก ดายน์\n",
            "ฝน รัก แตงโม\n",
            "ฝน รัก ฝน\n",
            "ฝน รัก พี่เจ็ท\n",
            "ฝน รัก น้องแคมป์\n",
            "พี่เจ็ท รัก พี่บูม\n",
            "พี่เจ็ท รัก ดายน์\n",
            "พี่เจ็ท รัก แตงโม\n",
            "พี่เจ็ท รัก ฝน\n",
            "พี่เจ็ท รัก พี่เจ็ท\n",
            "พี่เจ็ท รัก น้องแคมป์\n",
            "น้องแคมป์ รัก พี่บูม\n",
            "น้องแคมป์ รัก ดายน์\n",
            "น้องแคมป์ รัก แตงโม\n",
            "น้องแคมป์ รัก ฝน\n",
            "น้องแคมป์ รัก พี่เจ็ท\n",
            "น้องแคมป์ รัก น้องแคมป์\n"
          ]
        }
      ],
      "source": [
        "for name1 in list_friends :\n",
        "    for name2 in list_friends :\n",
        "            print(name1,'รัก',name2)"
      ]
    },
    {
      "cell_type": "code",
      "execution_count": null,
      "metadata": {
        "colab": {
          "base_uri": "https://localhost:8080/"
        },
        "id": "AR68KQ09lWu5",
        "outputId": "5bf585f2-7743-4124-a3d5-f731db613e5f"
      },
      "outputs": [
        {
          "name": "stdout",
          "output_type": "stream",
          "text": [
            "พี่บูม รัก ดายน์\n",
            "พี่บูม รัก แตงโม\n",
            "พี่บูม รัก ฝน\n",
            "พี่บูม รัก พี่เจ็ท\n",
            "พี่บูม รัก น้องแคมป์\n",
            "ดายน์ รัก พี่บูม\n",
            "ดายน์ รัก แตงโม\n",
            "ดายน์ รัก ฝน\n",
            "ดายน์ รัก พี่เจ็ท\n",
            "ดายน์ รัก น้องแคมป์\n",
            "แตงโม รัก พี่บูม\n",
            "แตงโม รัก ดายน์\n",
            "แตงโม รัก ฝน\n",
            "แตงโม รัก พี่เจ็ท\n",
            "แตงโม รัก น้องแคมป์\n",
            "ฝน รัก พี่บูม\n",
            "ฝน รัก ดายน์\n",
            "ฝน รัก แตงโม\n",
            "ฝน รัก พี่เจ็ท\n",
            "ฝน รัก น้องแคมป์\n",
            "พี่เจ็ท รัก พี่บูม\n",
            "พี่เจ็ท รัก ดายน์\n",
            "พี่เจ็ท รัก แตงโม\n",
            "พี่เจ็ท รัก ฝน\n",
            "พี่เจ็ท รัก น้องแคมป์\n",
            "น้องแคมป์ รัก พี่บูม\n",
            "น้องแคมป์ รัก ดายน์\n",
            "น้องแคมป์ รัก แตงโม\n",
            "น้องแคมป์ รัก ฝน\n",
            "น้องแคมป์ รัก พี่เจ็ท\n"
          ]
        }
      ],
      "source": [
        "for name1 in list_friends:\n",
        "    for name2 in list_friends:\n",
        "        if name1 != name2: #ไม่ปริ้นชื่อคนเดียวกันซ้ำ\n",
        "            print(name1,'รัก',name2)"
      ]
    },
    {
      "cell_type": "code",
      "execution_count": null,
      "metadata": {
        "colab": {
          "base_uri": "https://localhost:8080/"
        },
        "id": "agEHNNiQl5Kf",
        "outputId": "1497c2e0-f201-4045-8614-49581eeeb3e2"
      },
      "outputs": [
        {
          "name": "stdout",
          "output_type": "stream",
          "text": [
            "พี่บูม รัก พี่บูม\n",
            "ดายน์ รัก ดายน์\n",
            "แตงโม รัก แตงโม\n",
            "ฝน รัก ฝน\n",
            "พี่เจ็ท รัก พี่เจ็ท\n",
            "น้องแคมป์ รัก น้องแคมป์\n"
          ]
        }
      ],
      "source": [
        "for name1 in list_friends:\n",
        "    for name2 in list_friends:\n",
        "        if name1 == name2: #ปริ้นชื่อคนเดียวกันซ้ำ\n",
        "            print(name1,'รัก',name2)"
      ]
    },
    {
      "cell_type": "code",
      "execution_count": null,
      "metadata": {
        "colab": {
          "base_uri": "https://localhost:8080/"
        },
        "id": "zwaS_D0kmFPD",
        "outputId": "21d64114-f7d1-4346-a777-c27c3aa797f4"
      },
      "outputs": [
        {
          "name": "stdout",
          "output_type": "stream",
          "text": [
            "พี่บูม รัก ดายน์\n",
            "พี่บูม รัก แตงโม\n",
            "พี่บูม รัก ฝน\n",
            "พี่บูม รัก พี่เจ็ท\n",
            "พี่บูม รัก น้องแคมป์\n",
            "ดายน์ รัก พี่บูม\n",
            "ดายน์ รัก แตงโม\n",
            "ดายน์ รัก ฝน\n",
            "ดายน์ รัก พี่เจ็ท\n",
            "ดายน์ รัก น้องแคมป์\n",
            "แตงโม รัก พี่บูม\n",
            "แตงโม รัก ดายน์\n",
            "แตงโม รัก ฝน\n",
            "แตงโม รัก พี่เจ็ท\n",
            "แตงโม รัก น้องแคมป์\n",
            "ฝน รัก พี่บูม\n",
            "ฝน รัก ดายน์\n",
            "ฝน รัก แตงโม\n",
            "ฝน รัก พี่เจ็ท\n",
            "ฝน รัก น้องแคมป์\n",
            "พี่เจ็ท รัก พี่บูม\n",
            "พี่เจ็ท รัก ดายน์\n",
            "พี่เจ็ท รัก แตงโม\n",
            "พี่เจ็ท รัก ฝน\n",
            "พี่เจ็ท รัก น้องแคมป์\n",
            "น้องแคมป์ รัก พี่บูม\n",
            "น้องแคมป์ รัก ดายน์\n",
            "น้องแคมป์ รัก แตงโม\n",
            "น้องแคมป์ รัก ฝน\n",
            "น้องแคมป์ รัก พี่เจ็ท\n"
          ]
        }
      ],
      "source": [
        "for name1 in list_friends:\n",
        "    for name2 in list_friends:\n",
        "        if name1 == name2:\n",
        "            'do nothing'\n",
        "        else:\n",
        "            print(name1,'รัก',name2)"
      ]
    },
    {
      "cell_type": "markdown",
      "metadata": {
        "id": "kUPdCRG7bPqk"
      },
      "source": [
        "#### ==, !=,>=,<=,<,>"
      ]
    },
    {
      "cell_type": "code",
      "execution_count": null,
      "metadata": {
        "colab": {
          "base_uri": "https://localhost:8080/"
        },
        "id": "p4IXGFYDm_e-",
        "outputId": "7d7127fe-79eb-4f2a-da12-ef134206aa2a"
      },
      "outputs": [
        {
          "data": {
            "text/plain": [
              "False"
            ]
          },
          "execution_count": 31,
          "metadata": {
            "tags": []
          },
          "output_type": "execute_result"
        }
      ],
      "source": [
        "'พี่บูม' == 'พี่เจ็ท'"
      ]
    },
    {
      "cell_type": "code",
      "execution_count": null,
      "metadata": {
        "colab": {
          "base_uri": "https://localhost:8080/"
        },
        "id": "yXA87OOmnH4A",
        "outputId": "3c36a82d-6264-448c-b1bf-4e69dc7d2c27"
      },
      "outputs": [
        {
          "data": {
            "text/plain": [
              "True"
            ]
          },
          "execution_count": 32,
          "metadata": {
            "tags": []
          },
          "output_type": "execute_result"
        }
      ],
      "source": [
        "'พี่บูม' != 'พี่เจ็ท'"
      ]
    },
    {
      "cell_type": "markdown",
      "metadata": {
        "id": "OavN4AjAbPqk"
      },
      "source": [
        "#### หากหลังเงื่อนไข True ถูกต้องจะทำการ print ข้อความออกมาว่า Yes"
      ]
    },
    {
      "cell_type": "code",
      "execution_count": null,
      "metadata": {
        "id": "QPxAQKm4bPql",
        "outputId": "20063882-d97c-451a-fe85-35f663c82a7f"
      },
      "outputs": [
        {
          "name": "stdout",
          "output_type": "stream",
          "text": [
            "Yes\n"
          ]
        }
      ],
      "source": [
        "if True:\n",
        "    print('Yes')"
      ]
    },
    {
      "cell_type": "code",
      "execution_count": null,
      "metadata": {
        "id": "tqdBRcVSbPql"
      },
      "outputs": [],
      "source": [
        "if False:\n",
        "    print('No')"
      ]
    },
    {
      "cell_type": "markdown",
      "metadata": {
        "id": "_9xpvw3jbPql"
      },
      "source": [
        "#### หากหลังเงื่อนไข False ไม่ถูกต้องจะไม่ปริ้นข้อความใดๆออกมา\n",
        "#### ซึ่งจะต้องใช้เงื่อนไขนี้ จึงจะได้ปริ้นค่าเงื่อนไขนั้นออกมา ดังนี้"
      ]
    },
    {
      "cell_type": "code",
      "execution_count": null,
      "metadata": {
        "colab": {
          "base_uri": "https://localhost:8080/"
        },
        "id": "1e0IcdsMbPql",
        "outputId": "cb6bf9a5-9ede-4cfe-e9d1-577323e40eac"
      },
      "outputs": [
        {
          "name": "stdout",
          "output_type": "stream",
          "text": [
            "No\n"
          ]
        }
      ],
      "source": [
        "if False:\n",
        "    print('Yes')\n",
        "else:\n",
        "    print('No')"
      ]
    },
    {
      "cell_type": "markdown",
      "metadata": {
        "id": "sSySEFHNbPql"
      },
      "source": [
        "# HW\n",
        "#### เขียน function ตัดเกรด โดยที่ input เป็นคะแนน(0-100) , output เป็นเกรด (F-A)\n",
        "#### วนลูปตัดเกรด input = [1,50,65,90,101,-5,49]"
      ]
    },
    {
      "cell_type": "markdown",
      "metadata": {
        "id": "c3TDhZHzbPqm"
      },
      "source": [
        "##### กำหนด\n",
        "      ถ้าคะแนนอยู่ระหว่างมากกว่าหรือเท่ากับ  0  แต่น้อยกว่า 50 จะได้เกรด F\n",
        "      ถ้าคะแนนอยู่ระหว่างมากกว่าหรือเท่ากับ 50 แต่น้อยกว่า 55 จะได้เกรด D\n",
        "      ถ้าคะแนนอยู่ระหว่างมากกว่าหรือเท่ากับ 55 แต่น้อยกว่า 60 จะได้เกรด D+\n",
        "      ถ้าคะแนนอยู่ระหว่างมากกว่าหรือเท่ากับ 60 แต่น้อยกว่า 65 จะได้เกรด C\n",
        "      ถ้าคะแนนอยู่ระหว่างมากกว่าหรือเท่ากับ 65 แต่น้อยกว่า 70 จะได้เกรด C+\n",
        "      ถ้าคะแนนอยู่ระหว่างมากกว่าหรือเท่ากับ 70 แต่น้อยกว่า 75 จะได้เกรด B\n",
        "      ถ้าคะแนนอยู่ระหว่างมากกว่าหรือเท่ากับ 75 แต่น้อยกว่า 80 จะได้เกรด B+\n",
        "      ถ้าคะแนนอยู่ระหว่างมากกว่าหรือเท่ากับ 80  จะได้เกรด A\n",
        "      แต่ว่าค่าคะแนนจะต้องไม่ต่ำกว่า 0 และมากกว่า 100 ไม่งั้นจะเกิด error"
      ]
    },
    {
      "cell_type": "markdown",
      "metadata": {
        "id": "Bg3vVE3GbPqn"
      },
      "source": [
        "# Finish"
      ]
    }
  ],
  "metadata": {
    "colab": {
      "provenance": [],
      "toc_visible": true,
      "include_colab_link": true
    },
    "kernelspec": {
      "display_name": "Python 3",
      "language": "python",
      "name": "python3"
    },
    "language_info": {
      "codemirror_mode": {
        "name": "ipython",
        "version": 3
      },
      "file_extension": ".py",
      "mimetype": "text/x-python",
      "name": "python",
      "nbconvert_exporter": "python",
      "pygments_lexer": "ipython3",
      "version": "3.7.4"
    }
  },
  "nbformat": 4,
  "nbformat_minor": 0
}